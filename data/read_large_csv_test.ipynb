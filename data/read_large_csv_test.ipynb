{
 "cells": [
  {
   "cell_type": "markdown",
   "metadata": {},
   "source": [
    "### csv.reader"
   ]
  },
  {
   "cell_type": "code",
   "execution_count": 236,
   "metadata": {},
   "outputs": [],
   "source": [
    "import csv\n",
    "from subprocess import call\n",
    "import pandas as pd\n",
    "import numpy as np"
   ]
  },
  {
   "cell_type": "code",
   "execution_count": 51,
   "metadata": {},
   "outputs": [
    {
     "name": "stdout",
     "output_type": "stream",
     "text": [
      "/home/jlewis425/Seattle_g89/anomalies-in-earnings-release-reactions/data\r\n"
     ]
    }
   ],
   "source": [
    "!pwd"
   ]
  },
  {
   "cell_type": "code",
   "execution_count": 73,
   "metadata": {},
   "outputs": [],
   "source": [
    "filename = 'stock_vol_data.csv'"
   ]
  },
  {
   "cell_type": "code",
   "execution_count": 240,
   "metadata": {},
   "outputs": [],
   "source": [
    "def create_vol_features(raw_file):\n",
    "    \"\"\"docstring\"\"\"\n",
    "    \n",
    "    # open combined_clean.csv\n",
    "    df = pd.read_csv('combined_clean.csv', low_memory=False)\n",
    "    tickers = list(df['ticker_symbol'])\n",
    "    dates = list(df['t-7'])\n",
    "    codes = list(df['unique_earnings_code'])\n",
    "    \n",
    "    \n",
    "    # create containers for vol data\n",
    "    vol_spread1 = []\n",
    "    vol_spread2 = []\n",
    "    hist_v_imp = []\n",
    "    \n",
    "    \n",
    "    # open raw data file\n",
    "    with open(raw_file, \"r\") as raw:\n",
    "        datareader = csv.reader(raw)\n",
    "        \n",
    "        for row in datareader:\n",
    "            ticker = row[0]\n",
    "            date = row[1]\n",
    "            \n",
    "            if ticker in tickers and date in dates:\n",
    "                \n",
    "                # first vol spread calc\n",
    "                try:\n",
    "                    vs1 = float(row[3]) - float(row[7])\n",
    "                \n",
    "                except ValueError:\n",
    "                    vs1 = np.nan\n",
    "                \n",
    "                vol_spread1.append(vs1)\n",
    "                \n",
    "                # second vol spread calc\n",
    "                try:\n",
    "                    vs2 = float(row[2]) - float(row[5])\n",
    "                    \n",
    "                except ValueError:\n",
    "                    vs2 = np.nan\n",
    "                \n",
    "                vol_spread2.append(vs2)\n",
    "                \n",
    "                # historical vs implied calc\n",
    "                try:\n",
    "                    hvi = float(row[4]) - float(row[27])\n",
    "                except ValueError:\n",
    "                    hvi = np.nan\n",
    "                    \n",
    "                hist_v_imp.append(hvi)\n",
    "                \n",
    "    new_frame_cols = [codes, tickers, dates, vol_spread1, vol_spread2, hist_v_imp]\n",
    "    vol_frame = pd.DataFrame(new_frame_cols).T\n",
    "    \n",
    "    return vol_frame"
   ]
  },
  {
   "cell_type": "code",
   "execution_count": 241,
   "metadata": {},
   "outputs": [],
   "source": [
    "path = '/home/jlewis425/Seattle_g89/anomalies-in-earnings-release-reactions/vol_data/'\n",
    "filename = 'VOL_20190401.csv'\n",
    "target = path+filename"
   ]
  },
  {
   "cell_type": "code",
   "execution_count": 242,
   "metadata": {},
   "outputs": [],
   "source": [
    "vol_frame = create_vol_features(target)"
   ]
  },
  {
   "cell_type": "code",
   "execution_count": 246,
   "metadata": {},
   "outputs": [
    {
     "data": {
      "text/html": [
       "<div>\n",
       "<style scoped>\n",
       "    .dataframe tbody tr th:only-of-type {\n",
       "        vertical-align: middle;\n",
       "    }\n",
       "\n",
       "    .dataframe tbody tr th {\n",
       "        vertical-align: top;\n",
       "    }\n",
       "\n",
       "    .dataframe thead th {\n",
       "        text-align: right;\n",
       "    }\n",
       "</style>\n",
       "<table border=\"1\" class=\"dataframe\">\n",
       "  <thead>\n",
       "    <tr style=\"text-align: right;\">\n",
       "      <th></th>\n",
       "      <th>0</th>\n",
       "      <th>1</th>\n",
       "      <th>2</th>\n",
       "      <th>3</th>\n",
       "      <th>4</th>\n",
       "      <th>5</th>\n",
       "    </tr>\n",
       "  </thead>\n",
       "  <tbody>\n",
       "    <tr>\n",
       "      <th>0</th>\n",
       "      <td>TCO.1Q14</td>\n",
       "      <td>TCO</td>\n",
       "      <td>2014-04-18</td>\n",
       "      <td>-0.0826</td>\n",
       "      <td>-0.1463</td>\n",
       "      <td>-0.0364</td>\n",
       "    </tr>\n",
       "    <tr>\n",
       "      <th>1</th>\n",
       "      <td>SNX.1Q14</td>\n",
       "      <td>SNX</td>\n",
       "      <td>2014-03-28</td>\n",
       "      <td>-0.081</td>\n",
       "      <td>-0.2138</td>\n",
       "      <td>-0.0429</td>\n",
       "    </tr>\n",
       "    <tr>\n",
       "      <th>2</th>\n",
       "      <td>AIV.1Q14</td>\n",
       "      <td>AIV</td>\n",
       "      <td>2014-04-25</td>\n",
       "      <td>-0.0793</td>\n",
       "      <td>-0.2089</td>\n",
       "      <td>-0.0421</td>\n",
       "    </tr>\n",
       "    <tr>\n",
       "      <th>3</th>\n",
       "      <td>IT.1Q14</td>\n",
       "      <td>IT</td>\n",
       "      <td>2014-04-24</td>\n",
       "      <td>-0.0691</td>\n",
       "      <td>-0.1123</td>\n",
       "      <td>-0.03</td>\n",
       "    </tr>\n",
       "    <tr>\n",
       "      <th>4</th>\n",
       "      <td>MPWR.1Q14</td>\n",
       "      <td>MPWR</td>\n",
       "      <td>2014-04-18</td>\n",
       "      <td>-0.0899</td>\n",
       "      <td>-0.1331</td>\n",
       "      <td>-0.0287</td>\n",
       "    </tr>\n",
       "  </tbody>\n",
       "</table>\n",
       "</div>"
      ],
      "text/plain": [
       "           0     1           2       3       4       5\n",
       "0   TCO.1Q14   TCO  2014-04-18 -0.0826 -0.1463 -0.0364\n",
       "1   SNX.1Q14   SNX  2014-03-28  -0.081 -0.2138 -0.0429\n",
       "2   AIV.1Q14   AIV  2014-04-25 -0.0793 -0.2089 -0.0421\n",
       "3    IT.1Q14    IT  2014-04-24 -0.0691 -0.1123   -0.03\n",
       "4  MPWR.1Q14  MPWR  2014-04-18 -0.0899 -0.1331 -0.0287"
      ]
     },
     "execution_count": 246,
     "metadata": {},
     "output_type": "execute_result"
    }
   ],
   "source": [
    "vol_frame.head()"
   ]
  },
  {
   "cell_type": "code",
   "execution_count": 269,
   "metadata": {},
   "outputs": [],
   "source": [
    "vol_frame_clean = vol_frame.loc[~vol_frame.iloc[:, 0].isnull(), :]"
   ]
  },
  {
   "cell_type": "code",
   "execution_count": 270,
   "metadata": {},
   "outputs": [
    {
     "data": {
      "text/html": [
       "<div>\n",
       "<style scoped>\n",
       "    .dataframe tbody tr th:only-of-type {\n",
       "        vertical-align: middle;\n",
       "    }\n",
       "\n",
       "    .dataframe tbody tr th {\n",
       "        vertical-align: top;\n",
       "    }\n",
       "\n",
       "    .dataframe thead th {\n",
       "        text-align: right;\n",
       "    }\n",
       "</style>\n",
       "<table border=\"1\" class=\"dataframe\">\n",
       "  <thead>\n",
       "    <tr style=\"text-align: right;\">\n",
       "      <th></th>\n",
       "      <th>0</th>\n",
       "      <th>1</th>\n",
       "      <th>2</th>\n",
       "      <th>3</th>\n",
       "      <th>4</th>\n",
       "      <th>5</th>\n",
       "    </tr>\n",
       "  </thead>\n",
       "  <tbody>\n",
       "    <tr>\n",
       "      <th>0</th>\n",
       "      <td>TCO.1Q14</td>\n",
       "      <td>TCO</td>\n",
       "      <td>2014-04-18</td>\n",
       "      <td>-0.0826</td>\n",
       "      <td>-0.1463</td>\n",
       "      <td>-0.0364</td>\n",
       "    </tr>\n",
       "    <tr>\n",
       "      <th>1</th>\n",
       "      <td>SNX.1Q14</td>\n",
       "      <td>SNX</td>\n",
       "      <td>2014-03-28</td>\n",
       "      <td>-0.081</td>\n",
       "      <td>-0.2138</td>\n",
       "      <td>-0.0429</td>\n",
       "    </tr>\n",
       "    <tr>\n",
       "      <th>2</th>\n",
       "      <td>AIV.1Q14</td>\n",
       "      <td>AIV</td>\n",
       "      <td>2014-04-25</td>\n",
       "      <td>-0.0793</td>\n",
       "      <td>-0.2089</td>\n",
       "      <td>-0.0421</td>\n",
       "    </tr>\n",
       "    <tr>\n",
       "      <th>3</th>\n",
       "      <td>IT.1Q14</td>\n",
       "      <td>IT</td>\n",
       "      <td>2014-04-24</td>\n",
       "      <td>-0.0691</td>\n",
       "      <td>-0.1123</td>\n",
       "      <td>-0.03</td>\n",
       "    </tr>\n",
       "    <tr>\n",
       "      <th>4</th>\n",
       "      <td>MPWR.1Q14</td>\n",
       "      <td>MPWR</td>\n",
       "      <td>2014-04-18</td>\n",
       "      <td>-0.0899</td>\n",
       "      <td>-0.1331</td>\n",
       "      <td>-0.0287</td>\n",
       "    </tr>\n",
       "  </tbody>\n",
       "</table>\n",
       "</div>"
      ],
      "text/plain": [
       "           0     1           2       3       4       5\n",
       "0   TCO.1Q14   TCO  2014-04-18 -0.0826 -0.1463 -0.0364\n",
       "1   SNX.1Q14   SNX  2014-03-28  -0.081 -0.2138 -0.0429\n",
       "2   AIV.1Q14   AIV  2014-04-25 -0.0793 -0.2089 -0.0421\n",
       "3    IT.1Q14    IT  2014-04-24 -0.0691 -0.1123   -0.03\n",
       "4  MPWR.1Q14  MPWR  2014-04-18 -0.0899 -0.1331 -0.0287"
      ]
     },
     "execution_count": 270,
     "metadata": {},
     "output_type": "execute_result"
    }
   ],
   "source": [
    "vol_frame_clean.head()"
   ]
  },
  {
   "cell_type": "code",
   "execution_count": 271,
   "metadata": {},
   "outputs": [],
   "source": [
    "column_names = ['unique_earnings_code', 'ticker_symbol', 't-7', 'hvol_20_120_F', 'hvol_10_60_F', 'h30_v_imp30_F']"
   ]
  },
  {
   "cell_type": "code",
   "execution_count": 272,
   "metadata": {},
   "outputs": [],
   "source": [
    "vol_frame_clean.set_axis(column_names, axis=1, inplace=True)"
   ]
  },
  {
   "cell_type": "code",
   "execution_count": 273,
   "metadata": {
    "scrolled": true
   },
   "outputs": [],
   "source": [
    "vol_frame_clean.set_index('unique_earnings_code', inplace=True)"
   ]
  },
  {
   "cell_type": "code",
   "execution_count": 275,
   "metadata": {},
   "outputs": [
    {
     "name": "stderr",
     "output_type": "stream",
     "text": [
      "/home/jlewis425/anaconda3/lib/python3.6/site-packages/pandas/core/frame.py:3940: SettingWithCopyWarning: \n",
      "A value is trying to be set on a copy of a slice from a DataFrame\n",
      "\n",
      "See the caveats in the documentation: http://pandas.pydata.org/pandas-docs/stable/indexing.html#indexing-view-versus-copy\n",
      "  errors=errors)\n"
     ]
    }
   ],
   "source": [
    "vol_frame_clean.drop(columns=['ticker_symbol', 't-7'], inplace=True)"
   ]
  },
  {
   "cell_type": "code",
   "execution_count": 277,
   "metadata": {},
   "outputs": [],
   "source": [
    "vol_frame_clean.to_csv('clean_vol_data')"
   ]
  },
  {
   "cell_type": "code",
   "execution_count": null,
   "metadata": {},
   "outputs": [],
   "source": []
  },
  {
   "cell_type": "code",
   "execution_count": null,
   "metadata": {},
   "outputs": [],
   "source": []
  },
  {
   "cell_type": "code",
   "execution_count": null,
   "metadata": {},
   "outputs": [],
   "source": []
  },
  {
   "cell_type": "markdown",
   "metadata": {},
   "source": [
    "### Dask "
   ]
  },
  {
   "cell_type": "code",
   "execution_count": 10,
   "metadata": {},
   "outputs": [],
   "source": [
    "import dask.dataframe as dd\n",
    "from pandas import read_json"
   ]
  },
  {
   "cell_type": "code",
   "execution_count": 25,
   "metadata": {},
   "outputs": [],
   "source": [
    "vol_col_names = read_json('vol_col_names.json', typ='series')"
   ]
  },
  {
   "cell_type": "code",
   "execution_count": 26,
   "metadata": {},
   "outputs": [],
   "source": [
    "col_names = list(vol_col_names.index)"
   ]
  },
  {
   "cell_type": "code",
   "execution_count": 31,
   "metadata": {},
   "outputs": [],
   "source": [
    "col_names.insert(0,'ticker_symbol')"
   ]
  },
  {
   "cell_type": "code",
   "execution_count": 34,
   "metadata": {},
   "outputs": [],
   "source": [
    "col_names.insert(1, 'date')"
   ]
  },
  {
   "cell_type": "code",
   "execution_count": null,
   "metadata": {},
   "outputs": [],
   "source": []
  },
  {
   "cell_type": "code",
   "execution_count": null,
   "metadata": {},
   "outputs": [],
   "source": []
  },
  {
   "cell_type": "code",
   "execution_count": 41,
   "metadata": {},
   "outputs": [
    {
     "data": {
      "text/html": [
       "<div>\n",
       "<style scoped>\n",
       "    .dataframe tbody tr th:only-of-type {\n",
       "        vertical-align: middle;\n",
       "    }\n",
       "\n",
       "    .dataframe tbody tr th {\n",
       "        vertical-align: top;\n",
       "    }\n",
       "\n",
       "    .dataframe thead th {\n",
       "        text-align: right;\n",
       "    }\n",
       "</style>\n",
       "<table border=\"1\" class=\"dataframe\">\n",
       "  <thead>\n",
       "    <tr style=\"text-align: right;\">\n",
       "      <th></th>\n",
       "      <th>ticker_symbol</th>\n",
       "      <th>date</th>\n",
       "      <th>Hv10</th>\n",
       "      <th>Hv20</th>\n",
       "      <th>Hv30</th>\n",
       "      <th>Hv60</th>\n",
       "      <th>Hv90</th>\n",
       "      <th>Hv120</th>\n",
       "      <th>Hv150</th>\n",
       "      <th>Hv180</th>\n",
       "      <th>...</th>\n",
       "      <th>IvMean360</th>\n",
       "      <th>IvMeanSkew360</th>\n",
       "      <th>IvCall720</th>\n",
       "      <th>IvPut720</th>\n",
       "      <th>IvMean720</th>\n",
       "      <th>IvMeanSkew720</th>\n",
       "      <th>IvCall1080</th>\n",
       "      <th>IvPut1080</th>\n",
       "      <th>IvMean1080</th>\n",
       "      <th>IvMeanSkew1080</th>\n",
       "    </tr>\n",
       "  </thead>\n",
       "  <tbody>\n",
       "    <tr>\n",
       "      <th>0</th>\n",
       "      <td>A</td>\n",
       "      <td>2013-01-03</td>\n",
       "      <td>0.2613</td>\n",
       "      <td>0.2588</td>\n",
       "      <td>0.2549</td>\n",
       "      <td>0.2732</td>\n",
       "      <td>0.2634</td>\n",
       "      <td>0.2509</td>\n",
       "      <td>0.275</td>\n",
       "      <td>0.2783</td>\n",
       "      <td>...</td>\n",
       "      <td>0.2926</td>\n",
       "      <td>0.0286</td>\n",
       "      <td>0.3003</td>\n",
       "      <td>0.3252</td>\n",
       "      <td>0.3128</td>\n",
       "      <td>0.021</td>\n",
       "      <td>0.3013</td>\n",
       "      <td>0.3269</td>\n",
       "      <td>0.3141</td>\n",
       "      <td>0.0206</td>\n",
       "    </tr>\n",
       "    <tr>\n",
       "      <th>1</th>\n",
       "      <td>A</td>\n",
       "      <td>2013-01-04</td>\n",
       "      <td>0.276</td>\n",
       "      <td>0.2497</td>\n",
       "      <td>0.2599</td>\n",
       "      <td>0.2743</td>\n",
       "      <td>0.2659</td>\n",
       "      <td>0.2527</td>\n",
       "      <td>0.2713</td>\n",
       "      <td>0.2745</td>\n",
       "      <td>...</td>\n",
       "      <td>0.2897</td>\n",
       "      <td>0.0289</td>\n",
       "      <td>0.2924</td>\n",
       "      <td>0.3261</td>\n",
       "      <td>0.3092</td>\n",
       "      <td>0.0196</td>\n",
       "      <td>0.2929</td>\n",
       "      <td>0.328</td>\n",
       "      <td>0.3104</td>\n",
       "      <td>0.0191</td>\n",
       "    </tr>\n",
       "    <tr>\n",
       "      <th>2</th>\n",
       "      <td>A</td>\n",
       "      <td>2013-01-07</td>\n",
       "      <td>0.2812</td>\n",
       "      <td>0.2551</td>\n",
       "      <td>0.2618</td>\n",
       "      <td>0.273</td>\n",
       "      <td>0.2664</td>\n",
       "      <td>0.2525</td>\n",
       "      <td>0.2715</td>\n",
       "      <td>0.2744</td>\n",
       "      <td>...</td>\n",
       "      <td>0.2908</td>\n",
       "      <td>0.0278</td>\n",
       "      <td>0.3001</td>\n",
       "      <td>0.3242</td>\n",
       "      <td>0.3121</td>\n",
       "      <td>0.021</td>\n",
       "      <td>0.3009</td>\n",
       "      <td>0.3257</td>\n",
       "      <td>0.3133</td>\n",
       "      <td>0.0206</td>\n",
       "    </tr>\n",
       "    <tr>\n",
       "      <th>3</th>\n",
       "      <td>A</td>\n",
       "      <td>2013-01-08</td>\n",
       "      <td>0.2886</td>\n",
       "      <td>0.2475</td>\n",
       "      <td>0.2613</td>\n",
       "      <td>0.2691</td>\n",
       "      <td>0.2663</td>\n",
       "      <td>0.2511</td>\n",
       "      <td>0.2691</td>\n",
       "      <td>0.2746</td>\n",
       "      <td>...</td>\n",
       "      <td>0.2895</td>\n",
       "      <td>0.0289</td>\n",
       "      <td>0.3019</td>\n",
       "      <td>0.3168</td>\n",
       "      <td>0.3093</td>\n",
       "      <td>0.0286</td>\n",
       "      <td>0.3028</td>\n",
       "      <td>0.3179</td>\n",
       "      <td>0.3103</td>\n",
       "      <td>0.0287</td>\n",
       "    </tr>\n",
       "  </tbody>\n",
       "</table>\n",
       "<p>4 rows × 66 columns</p>\n",
       "</div>"
      ],
      "text/plain": [
       "  ticker_symbol        date    Hv10    Hv20    Hv30    Hv60    Hv90   Hv120  \\\n",
       "0             A  2013-01-03  0.2613  0.2588  0.2549  0.2732  0.2634  0.2509   \n",
       "1             A  2013-01-04   0.276  0.2497  0.2599  0.2743  0.2659  0.2527   \n",
       "2             A  2013-01-07  0.2812  0.2551  0.2618   0.273  0.2664  0.2525   \n",
       "3             A  2013-01-08  0.2886  0.2475  0.2613  0.2691  0.2663  0.2511   \n",
       "\n",
       "    Hv150   Hv180  ... IvMean360 IvMeanSkew360 IvCall720 IvPut720 IvMean720  \\\n",
       "0   0.275  0.2783  ...    0.2926        0.0286    0.3003   0.3252    0.3128   \n",
       "1  0.2713  0.2745  ...    0.2897        0.0289    0.2924   0.3261    0.3092   \n",
       "2  0.2715  0.2744  ...    0.2908        0.0278    0.3001   0.3242    0.3121   \n",
       "3  0.2691  0.2746  ...    0.2895        0.0289    0.3019   0.3168    0.3093   \n",
       "\n",
       "  IvMeanSkew720 IvCall1080 IvPut1080 IvMean1080 IvMeanSkew1080  \n",
       "0         0.021     0.3013    0.3269     0.3141         0.0206  \n",
       "1        0.0196     0.2929     0.328     0.3104         0.0191  \n",
       "2         0.021     0.3009    0.3257     0.3133         0.0206  \n",
       "3        0.0286     0.3028    0.3179     0.3103         0.0287  \n",
       "\n",
       "[4 rows x 66 columns]"
      ]
     },
     "execution_count": 41,
     "metadata": {},
     "output_type": "execute_result"
    }
   ],
   "source": [
    "df.head(4)"
   ]
  },
  {
   "cell_type": "markdown",
   "metadata": {},
   "source": [
    "### pymongo"
   ]
  },
  {
   "cell_type": "code",
   "execution_count": 110,
   "metadata": {},
   "outputs": [],
   "source": [
    "import csv\n",
    "import json\n",
    "import pandas as pd\n",
    "import sys, getopt, pprint\n",
    "\n",
    "import pymongo\n",
    "from pymongo import MongoClient"
   ]
  },
  {
   "cell_type": "code",
   "execution_count": null,
   "metadata": {},
   "outputs": [],
   "source": []
  },
  {
   "cell_type": "code",
   "execution_count": 132,
   "metadata": {},
   "outputs": [],
   "source": [
    "def _create_headers():\n",
    "    \"\"\"HELPER to create field names for pymongo collection\"\"\"\n",
    "    # read file\n",
    "    with open('vol_col_names.json', 'r') as myfile:\n",
    "        data=myfile.read()\n",
    "\n",
    "    # parse file\n",
    "    vol_labels = json.loads(data)\n",
    "    \n",
    "    headers = vol_labels.keys()\n",
    "    headers = list(headers)\n",
    "    headers.insert(0, \"ticker_symbol\")\n",
    "    headers.insert(1, 'date')\n",
    "    \n",
    "    return headers"
   ]
  },
  {
   "cell_type": "code",
   "execution_count": 142,
   "metadata": {},
   "outputs": [],
   "source": [
    "def csv_to_mongo(csv_filename, db_name):\n",
    "    \n",
    "    # instantiate client\n",
    "    client = MongoClient()\n",
    "    \n",
    "    # connect to (or create) mongo db\n",
    "    db = client[db_name]\n",
    "    # create collection\n",
    "    stocks = db.stocks        # is this right?\n",
    "    \n",
    "    # create headers\n",
    "    header = _create_headers()\n",
    "    \n",
    "    #CSV to JSON Conversion\n",
    "    csvfile = open(csv_filename)\n",
    "    reader = csv.DictReader(csvfile, fieldnames=header)\n",
    "    \n",
    "    \n",
    "    for each in reader:\n",
    "        row={}\n",
    "        for field in header:\n",
    "            \n",
    "            row[field]=each[field] # needs proper formatting?\n",
    "            \n",
    "        db.stocks.insert_one(row)\n"
   ]
  },
  {
   "cell_type": "code",
   "execution_count": 143,
   "metadata": {},
   "outputs": [],
   "source": [
    "csv_to_mongo('sample_stock_vol_data.csv', 'test')"
   ]
  },
  {
   "cell_type": "code",
   "execution_count": 145,
   "metadata": {},
   "outputs": [],
   "source": []
  },
  {
   "cell_type": "code",
   "execution_count": 117,
   "metadata": {},
   "outputs": [],
   "source": []
  },
  {
   "cell_type": "code",
   "execution_count": 118,
   "metadata": {},
   "outputs": [],
   "source": []
  },
  {
   "cell_type": "code",
   "execution_count": 120,
   "metadata": {},
   "outputs": [],
   "source": []
  },
  {
   "cell_type": "code",
   "execution_count": 122,
   "metadata": {},
   "outputs": [],
   "source": []
  },
  {
   "cell_type": "code",
   "execution_count": null,
   "metadata": {},
   "outputs": [],
   "source": []
  },
  {
   "cell_type": "code",
   "execution_count": 124,
   "metadata": {},
   "outputs": [],
   "source": [
    "\n",
    "    "
   ]
  },
  {
   "cell_type": "code",
   "execution_count": null,
   "metadata": {},
   "outputs": [],
   "source": []
  },
  {
   "cell_type": "code",
   "execution_count": null,
   "metadata": {},
   "outputs": [],
   "source": []
  }
 ],
 "metadata": {
  "kernelspec": {
   "display_name": "Python 3",
   "language": "python",
   "name": "python3"
  },
  "language_info": {
   "codemirror_mode": {
    "name": "ipython",
    "version": 3
   },
   "file_extension": ".py",
   "mimetype": "text/x-python",
   "name": "python",
   "nbconvert_exporter": "python",
   "pygments_lexer": "ipython3",
   "version": "3.6.8"
  }
 },
 "nbformat": 4,
 "nbformat_minor": 2
}
