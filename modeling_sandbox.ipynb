{
 "cells": [
  {
   "cell_type": "code",
   "execution_count": 12,
   "metadata": {},
   "outputs": [],
   "source": [
    "import pandas as pd\n",
    "import numpy as np\n",
    "import quandl\n",
    "from datetime import datetime, timedelta\n",
    "import json\n",
    "import matplotlib.pyplot as plt\n",
    "\n",
    "\n",
    "from dateutil.parser import parse\n",
    "from datetime import datetime\n",
    "from sklearn.model_selection import train_test_split, StratifiedKFold, cross_val_score, KFold, GridSearchCV\n",
    "from sklearn.ensemble import RandomForestClassifier, GradientBoostingClassifier\n",
    "from sklearn.metrics import log_loss, precision_score, confusion_matrix, precision_recall_curve\n",
    "from sklearn.metrics import roc_auc_score, f1_score, make_scorer, recall_score, average_precision_score\n",
    "\n",
    "from sklearn.utils.multiclass import unique_labels\n",
    "from sklearn.utils.fixes import signature\n",
    "from sklearn.preprocessing import OneHotEncoder, LabelEncoder\n",
    "\n",
    "from function_library import write_merged_frames, stack_frames, create_labels, clean_features\n",
    "from function_library import encode_sectors, prepare_partitions\n",
    "from function_library import create_hard_classes"
   ]
  },
  {
   "cell_type": "code",
   "execution_count": 13,
   "metadata": {},
   "outputs": [],
   "source": [
    "# create list of 'surprise' files\n",
    "\n",
    "surp_files = (['surp_1q14.csv',\n",
    "               'surp_2q14.csv',\n",
    "               'surp_3q14.csv',\n",
    "               'surp_4q14.csv',\n",
    "               'surp_1q15.csv',\n",
    "               'surp_2q15.csv',\n",
    "               'surp_3q15.csv',\n",
    "               'surp_4q15.csv',\n",
    "               'surp_1q16.csv',\n",
    "               'surp_2q16.csv',\n",
    "               'surp_3q16.csv',\n",
    "               'surp_4q16.csv',\n",
    "               'surp_1q17.csv',\n",
    "               'surp_2q17.csv',\n",
    "               'surp_3q17.csv',\n",
    "               'surp_4q17.csv',\n",
    "               'surp_1q18.csv',\n",
    "               'surp_2q18.csv',\n",
    "               'surp_3q18.csv'])"
   ]
  },
  {
   "cell_type": "code",
   "execution_count": 14,
   "metadata": {},
   "outputs": [],
   "source": [
    "# create list of 'features' files\n",
    "\n",
    "features_files = (['features_1q14.csv',\n",
    "                   'features_2q14.csv',\n",
    "                   'features_3q14.csv',\n",
    "                   'features_4q14.csv',\n",
    "                   'features_1q15.csv',\n",
    "                   'features_2q15.csv',\n",
    "                   'features_3q15.csv',\n",
    "                   'features_4q15.csv',\n",
    "                   'features_1q16.csv',\n",
    "                   'features_2q16.csv',\n",
    "                   'features_3q16.csv',\n",
    "                   'features_4q16.csv',\n",
    "                   'features_1q17.csv',\n",
    "                   'features_2q17.csv',\n",
    "                   'features_3q17.csv',\n",
    "                   'features_4q17.csv',\n",
    "                   'features_1q18.csv',\n",
    "                   'features_2q18.csv',\n",
    "                   'features_3q18.csv'])\n"
   ]
  },
  {
   "cell_type": "code",
   "execution_count": 15,
   "metadata": {},
   "outputs": [],
   "source": [
    "# data pipeline script\n",
    "\n",
    "combined_frames = write_merged_frames(surp_files, features_files)\n",
    "combined_full = stack_frames(combined_frames)\n",
    "create_labels('combined_full_set')\n",
    "clean_features('combined_full_set')\n",
    "encode_sectors('combined_clean')\n",
    "X_train, X_test, X_oos, y_train, y_test, y_oos = prepare_partitions('combined_clean')"
   ]
  },
  {
   "cell_type": "code",
   "execution_count": null,
   "metadata": {},
   "outputs": [],
   "source": []
  }
 ],
 "metadata": {
  "kernelspec": {
   "display_name": "Python 3",
   "language": "python",
   "name": "python3"
  },
  "language_info": {
   "codemirror_mode": {
    "name": "ipython",
    "version": 3
   },
   "file_extension": ".py",
   "mimetype": "text/x-python",
   "name": "python",
   "nbconvert_exporter": "python",
   "pygments_lexer": "ipython3",
   "version": "3.6.8"
  }
 },
 "nbformat": 4,
 "nbformat_minor": 2
}
